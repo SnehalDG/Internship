{
 "cells": [
  {
   "cell_type": "markdown",
   "id": "01482e57",
   "metadata": {},
   "source": [
    "# Write a python program to find the factorial of a number. "
   ]
  },
  {
   "cell_type": "code",
   "execution_count": 3,
   "id": "8aa31d8c",
   "metadata": {},
   "outputs": [
    {
     "name": "stdout",
     "output_type": "stream",
     "text": [
      "Enter the Number: \n",
      "5\n",
      "\n",
      "Factorial = 120\n"
     ]
    }
   ],
   "source": [
    "print(\"Enter the Number: \")\n",
    "num = int(input())\n",
    "\n",
    "fact = 1\n",
    "i = 1\n",
    "while i<=num:\n",
    "    fact = fact*i\n",
    "    i = i+1\n",
    "\n",
    "print(\"\\nFactorial =\", fact)"
   ]
  },
  {
   "cell_type": "markdown",
   "id": "f723debc",
   "metadata": {},
   "source": [
    "# Write a python program to find whether a number is prime or composite."
   ]
  },
  {
   "cell_type": "code",
   "execution_count": 11,
   "id": "5dbcef76",
   "metadata": {},
   "outputs": [
    {
     "name": "stdout",
     "output_type": "stream",
     "text": [
      "Enter a number: 407\n",
      "Number is not Prime\n"
     ]
    }
   ],
   "source": [
    "num = int(input('Enter a number: '))\n",
    "if num > 1:\n",
    "    for i in range(2, num):\n",
    "        if(num % i) == 0:\n",
    "            print('Number is not Prime')\n",
    "            break\n",
    "    else:\n",
    "        print('Number is Prime')"
   ]
  },
  {
   "cell_type": "markdown",
   "id": "8541306e",
   "metadata": {},
   "source": [
    "# Write a python program to check whether a given string is palindrome or not. "
   ]
  },
  {
   "cell_type": "code",
   "execution_count": 16,
   "id": "2f01778c",
   "metadata": {},
   "outputs": [
    {
     "name": "stdout",
     "output_type": "stream",
     "text": [
      "Enter any word :pip\n",
      "It is a palindrome\n"
     ]
    }
   ],
   "source": [
    "word=input(\"Enter any word :\")\n",
    "rev=reversed(word)\n",
    "if list(word)==list(rev):\n",
    "    print('It is a palindrome')\n",
    "else:\n",
    "    print('It is not a palindrome')"
   ]
  },
  {
   "cell_type": "markdown",
   "id": "05c7e2bd",
   "metadata": {},
   "source": [
    "# Write a Python program to get the third side of right-angled triangle from two given sides"
   ]
  },
  {
   "cell_type": "code",
   "execution_count": 21,
   "id": "263d0d18",
   "metadata": {},
   "outputs": [
    {
     "name": "stdout",
     "output_type": "stream",
     "text": [
      "Give side a: 3\n",
      "Give side b: 4\n",
      "The length of the hypotenuse c is {c}\n"
     ]
    }
   ],
   "source": [
    "import math\n",
    "a = float(input(\"Give side a: \"))\n",
    "b = float(input(\"Give side b: \"))\n",
    "c = math.sqrt(a ** 2 + b ** 2)\n",
    "print(\"The length of the hypotenuse c is {c}\")"
   ]
  },
  {
   "cell_type": "markdown",
   "id": "0e6d82ce",
   "metadata": {},
   "source": [
    "# Write a python program to print the frequency of each of the characters present in a given string. "
   ]
  },
  {
   "cell_type": "code",
   "execution_count": 32,
   "id": "d989ab07",
   "metadata": {},
   "outputs": [
    {
     "name": "stdout",
     "output_type": "stream",
     "text": [
      "In string 'P' occurs 1\n",
      "In string 't' occurs 2\n",
      "In string 'o' occurs 3\n",
      "In string 'h' occurs 1\n",
      "In string 'n' occurs 4\n",
      "In string 'p' occurs 1\n",
      "In string ' ' occurs 6\n",
      "In string 'e' occurs 3\n",
      "In string 'r' occurs 3\n",
      "In string 's' occurs 2\n",
      "In string 'i' occurs 2\n",
      "In string 'g' occurs 4\n",
      "In string 'y' occurs 2\n",
      "In string 'm' occurs 2\n",
      "In string 'u' occurs 1\n",
      "In string 'a' occurs 5\n",
      "In string 'l' occurs 2\n"
     ]
    }
   ],
   "source": [
    "string = \"Python is easy to learn programming language\"\n",
    "\n",
    "word = set(string)\n",
    "for element in word:\n",
    "    count = 0\n",
    "    for character in string:\n",
    "        if character == element:\n",
    "            count += 1\n",
    "    print(\"In string '{}' occurs {}\".format(element, count))"
   ]
  },
  {
   "cell_type": "code",
   "execution_count": 28,
   "id": "ea46ab16",
   "metadata": {},
   "outputs": [
    {
     "name": "stdout",
     "output_type": "stream",
     "text": [
      "9\n"
     ]
    }
   ],
   "source": [
    "import re\n",
    "\n",
    "a_string = 'the quick brown fox jumps over the lazy dog'\n",
    "print(len(re.findall('\\w+', a_string)))"
   ]
  },
  {
   "cell_type": "code",
   "execution_count": null,
   "id": "88524b99",
   "metadata": {},
   "outputs": [],
   "source": []
  }
 ],
 "metadata": {
  "kernelspec": {
   "display_name": "Python 3 (ipykernel)",
   "language": "python",
   "name": "python3"
  },
  "language_info": {
   "codemirror_mode": {
    "name": "ipython",
    "version": 3
   },
   "file_extension": ".py",
   "mimetype": "text/x-python",
   "name": "python",
   "nbconvert_exporter": "python",
   "pygments_lexer": "ipython3",
   "version": "3.10.9"
  }
 },
 "nbformat": 4,
 "nbformat_minor": 5
}
