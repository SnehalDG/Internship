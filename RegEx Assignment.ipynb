{
 "cells": [
  {
   "cell_type": "markdown",
   "id": "dee5e648",
   "metadata": {},
   "source": [
    "# Write a Python program to replace all occurrences of a space, comma, or dot with a colon."
   ]
  },
  {
   "cell_type": "code",
   "execution_count": null,
   "id": "0b404780",
   "metadata": {},
   "outputs": [],
   "source": []
  },
  {
   "cell_type": "code",
   "execution_count": 125,
   "id": "8b5a7052",
   "metadata": {},
   "outputs": [
    {
     "name": "stdout",
     "output_type": "stream",
     "text": [
      "Python:Exercises::PHP:exercises:\n"
     ]
    }
   ],
   "source": [
    "import re\n",
    "sample_text='Python Exercises, PHP exercises.'\n",
    "print (re.sub('[, .]', ':', sample_text))"
   ]
  },
  {
   "cell_type": "markdown",
   "id": "0fff1f87",
   "metadata": {},
   "source": [
    "# Write a Python program to find all words starting with 'a' or 'e' in a given string."
   ]
  },
  {
   "cell_type": "code",
   "execution_count": 23,
   "id": "48b46ddd",
   "metadata": {},
   "outputs": [
    {
     "name": "stdout",
     "output_type": "stream",
     "text": [
      "Matches: ['ant', 'egg', 'award']\n"
     ]
    }
   ],
   "source": [
    "text= 'ant, egg, fish, award'\n",
    "match= re.findall('[ae]\\w*', text)\n",
    "print('Matches:', match)"
   ]
  },
  {
   "cell_type": "markdown",
   "id": "8f91db7d",
   "metadata": {},
   "source": [
    "# Create a function in python to find all words that are at least 4 characters long in a string. The use of the re.compile() method is mandatory."
   ]
  },
  {
   "cell_type": "code",
   "execution_count": 41,
   "id": "d13600b3",
   "metadata": {},
   "outputs": [
    {
     "name": "stdout",
     "output_type": "stream",
     "text": [
      "['great', 'adventure', 'wonderland', 'book']\n"
     ]
    }
   ],
   "source": [
    "text=(' A great adventure was wonderland book')\n",
    "matches= re.compile(('\\w{4,}'))\n",
    "result= matches.findall(text)\n",
    "print(result)"
   ]
  },
  {
   "cell_type": "markdown",
   "id": "052b673c",
   "metadata": {},
   "source": [
    "# Create a function in python to find all three, four, and five character words in a string. The use of the re.compile() method is mandatory."
   ]
  },
  {
   "cell_type": "code",
   "execution_count": 57,
   "id": "d2f2110e",
   "metadata": {},
   "outputs": [
    {
     "name": "stdout",
     "output_type": "stream",
     "text": [
      "['great', 'was', 'book', 'buy']\n"
     ]
    }
   ],
   "source": [
    "text=(' A great adventure was wonderland book so buy it')\n",
    "matches= re.compile((r'\\b\\w{3,5}\\b'))\n",
    "result= matches.findall(text)\n",
    "print(result)"
   ]
  },
  {
   "cell_type": "markdown",
   "id": "a973a0ad",
   "metadata": {},
   "source": [
    "# Create a function in Python to remove the parenthesis in a list of strings. The use of the re.compile() method is mandatory."
   ]
  },
  {
   "cell_type": "code",
   "execution_count": 33,
   "id": "a7b908d0",
   "metadata": {},
   "outputs": [
    {
     "name": "stdout",
     "output_type": "stream",
     "text": [
      "example .com hr@fliprobo .com github .com Hello Data Science World Data Scientist\n"
     ]
    }
   ],
   "source": [
    "sample= \"example (.com) \" \"hr@fliprobo (.com) \" \"github (.com) \" \"Hello (Data Science World) \"  \"Data (Scientist)\"\n",
    "\n",
    "print(re.sub(\"[()]\",\"\" ,sample))"
   ]
  },
  {
   "cell_type": "markdown",
   "id": "2ab3d62d",
   "metadata": {},
   "source": [
    "# Write a python program to remove the parenthesis area from the text stored in the text file using Regular Expression."
   ]
  },
  {
   "cell_type": "code",
   "execution_count": 28,
   "id": "bae168f1",
   "metadata": {},
   "outputs": [
    {
     "name": "stdout",
     "output_type": "stream",
     "text": [
      "example  hr@fliprobo  github  Hello  Data \n"
     ]
    }
   ],
   "source": [
    "new= re.sub(r'\\([^)]*\\)', '', sample)\n",
    "print(new)\n"
   ]
  },
  {
   "cell_type": "markdown",
   "id": "44671fc6",
   "metadata": {},
   "source": [
    "# Write a regular expression in Python to split a string into uppercase letters."
   ]
  },
  {
   "cell_type": "code",
   "execution_count": 7,
   "id": "a3c73984",
   "metadata": {},
   "outputs": [
    {
     "name": "stdout",
     "output_type": "stream",
     "text": [
      "['Importance', 'Of', 'Regular', 'Expressions', 'In', 'Python']\n"
     ]
    }
   ],
   "source": [
    "text= 'ImportanceOfRegularExpressionsInPython'\n",
    "patt= (re.findall(r'[A-Z][a-z]*', text))\n",
    "print(patt)"
   ]
  },
  {
   "cell_type": "markdown",
   "id": "6a54fa94",
   "metadata": {},
   "source": [
    "# Create a function in python to insert spaces between words starting with numbers."
   ]
  },
  {
   "cell_type": "code",
   "execution_count": 112,
   "id": "c3451ec3",
   "metadata": {},
   "outputs": [
    {
     "name": "stdout",
     "output_type": "stream",
     "text": [
      "['RegularExpression', '1IsAn2ImportantTopic3InPython', '']\n"
     ]
    }
   ],
   "source": [
    "sample= 'RegularExpression1IsAn2ImportantTopic3InPython'\n",
    "patt= (re.split('(\\d{1,3}\\S*)', sample))\n",
    "print(patt)"
   ]
  },
  {
   "cell_type": "markdown",
   "id": "d55d1062",
   "metadata": {},
   "source": [
    "# Create a function in python to insert spaces between words starting with capital letters or with numbers."
   ]
  },
  {
   "cell_type": "code",
   "execution_count": 111,
   "id": "6e610ca3",
   "metadata": {},
   "outputs": [
    {
     "name": "stdout",
     "output_type": "stream",
     "text": [
      "['RegularExpression', '1', 'IsAn', '2', 'ImportantTopic', '3', 'InPython']\n"
     ]
    }
   ],
   "source": [
    "sample= 'RegularExpression1IsAn2ImportantTopic3InPython'\n",
    "patt= (re.split('(\\d+)', sample))\n",
    "print(patt)"
   ]
  },
  {
   "cell_type": "markdown",
   "id": "4cd18382",
   "metadata": {},
   "source": [
    "# Write a python program to extract email address from the text stored in the text file using Regular Expression."
   ]
  },
  {
   "cell_type": "code",
   "execution_count": 118,
   "id": "e5111f7c",
   "metadata": {},
   "outputs": [
    {
     "data": {
      "text/plain": [
       "['xyz@domain.com', 'xyz.abc@sdomain.domain.com', 'hr@fliprobo.com']"
      ]
     },
     "execution_count": 118,
     "metadata": {},
     "output_type": "execute_result"
    }
   ],
   "source": [
    "sample= '''\n",
    "Hello my name is Data Science and my email address is xyz@domain.com and alternate email address is xyz.abc@sdomain.domain.com. \n",
    "Please contact us at hr@fliprobo.com for further information. \n",
    "'''\n",
    "\n",
    "re.findall(r\"[\\w.\\-+_]+@[a-z0-9\\.\\-+_]+\\.[a-z]+\", sample)"
   ]
  },
  {
   "cell_type": "markdown",
   "id": "793df8e8",
   "metadata": {},
   "source": [
    "# Write a Python program to match a string that contains only upper and lowercase letters, numbers, and underscores."
   ]
  },
  {
   "cell_type": "code",
   "execution_count": 12,
   "id": "e01273c0",
   "metadata": {},
   "outputs": [
    {
     "name": "stdout",
     "output_type": "stream",
     "text": [
      "['An', 'ant', 'with', '8_legs']\n"
     ]
    }
   ],
   "source": [
    "sample='An ant # with 8_legs @ '\n",
    "patt= re.findall(r\"[\\w*\\_]+\", sample)\n",
    "print(patt)"
   ]
  },
  {
   "cell_type": "markdown",
   "id": "a18ae0f9",
   "metadata": {},
   "source": [
    "# Write a Python program where a string will start with a specific number. "
   ]
  },
  {
   "cell_type": "code",
   "execution_count": 21,
   "id": "0a609e29",
   "metadata": {},
   "outputs": [
    {
     "name": "stdout",
     "output_type": "stream",
     "text": [
      "The line starts with '1'.\n"
     ]
    }
   ],
   "source": [
    "str = '1 - Python is a programming language.'\n",
    "x = re.search('1', str)\n",
    "\n",
    "if(x!=1):\n",
    "\tprint('The line starts with \\'1\\'.')\n",
    "else:\n",
    "\tprint('The line does not start with \\'1\\'.')"
   ]
  },
  {
   "cell_type": "markdown",
   "id": "734a03d2",
   "metadata": {},
   "source": [
    "# Write a Python program to remove leading zeros from an IP address"
   ]
  },
  {
   "cell_type": "code",
   "execution_count": 29,
   "id": "81ad5919",
   "metadata": {},
   "outputs": [
    {
     "name": "stdout",
     "output_type": "stream",
     "text": [
      "20.4.3.49\n"
     ]
    }
   ],
   "source": [
    "ip= '20.004.03.49'\n",
    "patt= re.sub(r'\\b0+','', ip)\n",
    "print(patt)"
   ]
  },
  {
   "cell_type": "markdown",
   "id": "88940d92",
   "metadata": {},
   "source": [
    "# Write a regular expression in python to match a date string in the form of Month name followed by day number and year stored in a text file."
   ]
  },
  {
   "cell_type": "code",
   "execution_count": 63,
   "id": "7906c21c",
   "metadata": {},
   "outputs": [
    {
     "name": "stdout",
     "output_type": "stream",
     "text": [
      "[]\n"
     ]
    }
   ],
   "source": [
    "text='On August 15th 1947 that India was declared independent from British colonialism, and the reins of control were handed over to the leaders of the Country'\n",
    "patt= re.findall(\"\\d+ (January|February|March|April|May|June|July|August|September|October|November|December)((19[7-9]\\d|20\\d{2})|\\d{2})\", text)\n",
    "print(patt)                                       "
   ]
  },
  {
   "cell_type": "markdown",
   "id": "4cd50564",
   "metadata": {},
   "source": [
    "# Write a Python program to search some literals strings in a string. "
   ]
  },
  {
   "cell_type": "code",
   "execution_count": 83,
   "id": "8bb161b2",
   "metadata": {},
   "outputs": [
    {
     "name": "stdout",
     "output_type": "stream",
     "text": [
      "For \"fox\" in \"The quick brown fox jumps over the lazy dog\" -\n",
      "Matched!\n",
      "For \"dog\" in \"The quick brown fox jumps over the lazy dog\" -\n",
      "Matched!\n",
      "For \"horse\" in \"The quick brown fox jumps over the lazy dog\" -\n",
      "Not Matched!\n"
     ]
    }
   ],
   "source": [
    "\n",
    "text= 'The quick brown fox jumps over the lazy dog' \n",
    "patt= ('fox', 'dog', 'horse')\n",
    "for pattern in patterns:\n",
    "    print('For \"%s\" in \"%s\" -' % (pattern, text),)\n",
    "    if re.search(pattern,  text):\n",
    "        print('Matched!')\n",
    "    else:\n",
    "        print('Not Matched!')\n",
    "    "
   ]
  },
  {
   "cell_type": "markdown",
   "id": "d7c51543",
   "metadata": {},
   "source": [
    "# Write a Python program to search a literals string in a string and also find the location within the original string where the pattern occurs"
   ]
  },
  {
   "cell_type": "code",
   "execution_count": 115,
   "id": "64da0ebc",
   "metadata": {},
   "outputs": [
    {
     "name": "stdout",
     "output_type": "stream",
     "text": [
      "Start Index: 16\n",
      "End Index: 19\n",
      "For \"fox\" in \"The quick brown fox jumps over the lazy dog\" -\n"
     ]
    }
   ],
   "source": [
    "text= 'The quick brown fox jumps over the lazy dog'\n",
    "word= 'fox' \n",
    "match = re.search(word, text)\n",
    "   \n",
    "\n",
    "print('Start Index:', match.start())\n",
    "print('End Index:', match.end())\n",
    "print('For \"%s\" in \"%s\" -' % (word, text),)"
   ]
  },
  {
   "cell_type": "markdown",
   "id": "08072d8a",
   "metadata": {},
   "source": [
    "# Write a Python program to find the substrings within a string."
   ]
  },
  {
   "cell_type": "code",
   "execution_count": 106,
   "id": "c3851ba6",
   "metadata": {},
   "outputs": [
    {
     "name": "stdout",
     "output_type": "stream",
     "text": [
      "['exercises', 'exercises', 'exercises']\n"
     ]
    }
   ],
   "source": [
    "text= 'Python exercises, PHP exercises, C# exercises'\n",
    "pattern= 'exercises'\n",
    "matches= re.findall(pattern, text)\n",
    "print(matches)"
   ]
  },
  {
   "cell_type": "markdown",
   "id": "18fafb05",
   "metadata": {},
   "source": [
    "# Write a Python program to find the occurrence and position of the substrings within a string."
   ]
  },
  {
   "cell_type": "code",
   "execution_count": 124,
   "id": "776dcb2e",
   "metadata": {},
   "outputs": [
    {
     "name": "stdout",
     "output_type": "stream",
     "text": [
      "Found \"exercises\" at 7:16\n",
      "Found \"exercises\" at 22:31\n",
      "Found \"exercises\" at 36:45\n"
     ]
    }
   ],
   "source": [
    "text= 'Python exercises, PHP exercises, C# exercises'\n",
    "pattern= 'exercises'\n",
    "\n",
    "for match in re.finditer(pattern, text):\n",
    "    start = match.start()\n",
    "    end = match.end()\n",
    "    print('Found \"%s\" at %d:%d' % (text[start:end], start, end))"
   ]
  },
  {
   "cell_type": "markdown",
   "id": "7cf742fe",
   "metadata": {},
   "source": [
    "# Write a Python program to convert a date of yyyy-mm-dd format to dd-mm-yyyy format."
   ]
  },
  {
   "cell_type": "code",
   "execution_count": 141,
   "id": "7a66bdbc",
   "metadata": {},
   "outputs": [
    {
     "name": "stdout",
     "output_type": "stream",
     "text": [
      "22-11-1995\n"
     ]
    }
   ],
   "source": [
    "text= '1995-11-22'\n",
    "patt= re.sub(r'(\\d{4})-(\\d{2})-(\\d{2})', '\\\\3-\\\\2-\\\\1', text)\n",
    "print(patt)"
   ]
  },
  {
   "cell_type": "markdown",
   "id": "fe4de631",
   "metadata": {},
   "source": [
    "# Create a function in python to find all decimal numbers with a precision of 1 or 2 in a string. The use of the re.compile() method is mandatory."
   ]
  },
  {
   "cell_type": "code",
   "execution_count": 159,
   "id": "4fde716f",
   "metadata": {},
   "outputs": [
    {
     "name": "stdout",
     "output_type": "stream",
     "text": [
      "True\n"
     ]
    }
   ],
   "source": [
    "def decimal(num):\n",
    "    \n",
    "  dnumre = re.compile(r\"^[0-9]+(\\.[0-9]{1,2})?$\")\n",
    "  match= dnumre.search(num)\n",
    "  return bool(match)\n",
    "print(decimal('5.33'))"
   ]
  },
  {
   "cell_type": "markdown",
   "id": "2b8ad80c",
   "metadata": {},
   "source": [
    "# Write a Python program to separate and print the numbers and their position of a given string."
   ]
  },
  {
   "cell_type": "code",
   "execution_count": 165,
   "id": "e1c7193e",
   "metadata": {},
   "outputs": [
    {
     "name": "stdout",
     "output_type": "stream",
     "text": [
      "45\n",
      "Start Index: 5\n"
     ]
    }
   ],
   "source": [
    "text= 'I am 45 years old today'\n",
    "\n",
    "for num in re.finditer(\"\\d+\", text):\n",
    "    print(num.group(0))\n",
    "    print('Start Index:', num.start())"
   ]
  },
  {
   "cell_type": "code",
   "execution_count": null,
   "id": "e56d71b5",
   "metadata": {},
   "outputs": [],
   "source": []
  }
 ],
 "metadata": {
  "kernelspec": {
   "display_name": "Python 3 (ipykernel)",
   "language": "python",
   "name": "python3"
  },
  "language_info": {
   "codemirror_mode": {
    "name": "ipython",
    "version": 3
   },
   "file_extension": ".py",
   "mimetype": "text/x-python",
   "name": "python",
   "nbconvert_exporter": "python",
   "pygments_lexer": "ipython3",
   "version": "3.10.9"
  }
 },
 "nbformat": 4,
 "nbformat_minor": 5
}
